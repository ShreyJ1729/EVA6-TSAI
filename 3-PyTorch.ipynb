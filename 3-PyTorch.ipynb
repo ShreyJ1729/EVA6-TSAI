{
  "nbformat": 4,
  "nbformat_minor": 0,
  "metadata": {
    "colab": {
      "name": "Session 3.ipynb",
      "provenance": [],
      "collapsed_sections": [],
      "authorship_tag": "ABX9TyPwfp2tI9AspEEEm8KaNNtP"
    },
    "kernelspec": {
      "name": "python3",
      "display_name": "Python 3"
    },
    "language_info": {
      "name": "python"
    },
    "accelerator": "GPU",
    "widgets": {
      "application/vnd.jupyter.widget-state+json": {
        "1c003149c4c041c4a0e0cfc0ecb0bbcf": {
          "model_module": "@jupyter-widgets/controls",
          "model_name": "HBoxModel",
          "state": {
            "_view_name": "HBoxView",
            "_dom_classes": [],
            "_model_name": "HBoxModel",
            "_view_module": "@jupyter-widgets/controls",
            "_model_module_version": "1.5.0",
            "_view_count": null,
            "_view_module_version": "1.5.0",
            "box_style": "",
            "layout": "IPY_MODEL_62498b4887f54836bf1e78c11c23c395",
            "_model_module": "@jupyter-widgets/controls",
            "children": [
              "IPY_MODEL_c3688a84e43e4ec0b03da766ef953b96",
              "IPY_MODEL_94369c8b62f84e43a964db8041356801"
            ]
          }
        },
        "62498b4887f54836bf1e78c11c23c395": {
          "model_module": "@jupyter-widgets/base",
          "model_name": "LayoutModel",
          "state": {
            "_view_name": "LayoutView",
            "grid_template_rows": null,
            "right": null,
            "justify_content": null,
            "_view_module": "@jupyter-widgets/base",
            "overflow": null,
            "_model_module_version": "1.2.0",
            "_view_count": null,
            "flex_flow": null,
            "width": null,
            "min_width": null,
            "border": null,
            "align_items": null,
            "bottom": null,
            "_model_module": "@jupyter-widgets/base",
            "top": null,
            "grid_column": null,
            "overflow_y": null,
            "overflow_x": null,
            "grid_auto_flow": null,
            "grid_area": null,
            "grid_template_columns": null,
            "flex": null,
            "_model_name": "LayoutModel",
            "justify_items": null,
            "grid_row": null,
            "max_height": null,
            "align_content": null,
            "visibility": null,
            "align_self": null,
            "height": null,
            "min_height": null,
            "padding": null,
            "grid_auto_rows": null,
            "grid_gap": null,
            "max_width": null,
            "order": null,
            "_view_module_version": "1.2.0",
            "grid_template_areas": null,
            "object_position": null,
            "object_fit": null,
            "grid_auto_columns": null,
            "margin": null,
            "display": null,
            "left": null
          }
        },
        "c3688a84e43e4ec0b03da766ef953b96": {
          "model_module": "@jupyter-widgets/controls",
          "model_name": "FloatProgressModel",
          "state": {
            "_view_name": "ProgressView",
            "style": "IPY_MODEL_8b4b114d35604a0dad638ce10d3edf24",
            "_dom_classes": [],
            "description": "100%",
            "_model_name": "FloatProgressModel",
            "bar_style": "",
            "max": 469,
            "_view_module": "@jupyter-widgets/controls",
            "_model_module_version": "1.5.0",
            "value": 469,
            "_view_count": null,
            "_view_module_version": "1.5.0",
            "orientation": "horizontal",
            "min": 0,
            "description_tooltip": null,
            "_model_module": "@jupyter-widgets/controls",
            "layout": "IPY_MODEL_01fd07f26afd481fa5fa9a7e37d6354f"
          }
        },
        "94369c8b62f84e43a964db8041356801": {
          "model_module": "@jupyter-widgets/controls",
          "model_name": "HTMLModel",
          "state": {
            "_view_name": "HTMLView",
            "style": "IPY_MODEL_406335f4b5f3496f9bcea3b8b15606a7",
            "_dom_classes": [],
            "description": "",
            "_model_name": "HTMLModel",
            "placeholder": "​",
            "_view_module": "@jupyter-widgets/controls",
            "_model_module_version": "1.5.0",
            "value": " 469/469 [00:18&lt;00:00, 24.76it/s]",
            "_view_count": null,
            "_view_module_version": "1.5.0",
            "description_tooltip": null,
            "_model_module": "@jupyter-widgets/controls",
            "layout": "IPY_MODEL_29c057db2eda4ce3b1412875386e5679"
          }
        },
        "8b4b114d35604a0dad638ce10d3edf24": {
          "model_module": "@jupyter-widgets/controls",
          "model_name": "ProgressStyleModel",
          "state": {
            "_view_name": "StyleView",
            "_model_name": "ProgressStyleModel",
            "description_width": "initial",
            "_view_module": "@jupyter-widgets/base",
            "_model_module_version": "1.5.0",
            "_view_count": null,
            "_view_module_version": "1.2.0",
            "bar_color": null,
            "_model_module": "@jupyter-widgets/controls"
          }
        },
        "01fd07f26afd481fa5fa9a7e37d6354f": {
          "model_module": "@jupyter-widgets/base",
          "model_name": "LayoutModel",
          "state": {
            "_view_name": "LayoutView",
            "grid_template_rows": null,
            "right": null,
            "justify_content": null,
            "_view_module": "@jupyter-widgets/base",
            "overflow": null,
            "_model_module_version": "1.2.0",
            "_view_count": null,
            "flex_flow": null,
            "width": null,
            "min_width": null,
            "border": null,
            "align_items": null,
            "bottom": null,
            "_model_module": "@jupyter-widgets/base",
            "top": null,
            "grid_column": null,
            "overflow_y": null,
            "overflow_x": null,
            "grid_auto_flow": null,
            "grid_area": null,
            "grid_template_columns": null,
            "flex": null,
            "_model_name": "LayoutModel",
            "justify_items": null,
            "grid_row": null,
            "max_height": null,
            "align_content": null,
            "visibility": null,
            "align_self": null,
            "height": null,
            "min_height": null,
            "padding": null,
            "grid_auto_rows": null,
            "grid_gap": null,
            "max_width": null,
            "order": null,
            "_view_module_version": "1.2.0",
            "grid_template_areas": null,
            "object_position": null,
            "object_fit": null,
            "grid_auto_columns": null,
            "margin": null,
            "display": null,
            "left": null
          }
        },
        "406335f4b5f3496f9bcea3b8b15606a7": {
          "model_module": "@jupyter-widgets/controls",
          "model_name": "DescriptionStyleModel",
          "state": {
            "_view_name": "StyleView",
            "_model_name": "DescriptionStyleModel",
            "description_width": "",
            "_view_module": "@jupyter-widgets/base",
            "_model_module_version": "1.5.0",
            "_view_count": null,
            "_view_module_version": "1.2.0",
            "_model_module": "@jupyter-widgets/controls"
          }
        },
        "29c057db2eda4ce3b1412875386e5679": {
          "model_module": "@jupyter-widgets/base",
          "model_name": "LayoutModel",
          "state": {
            "_view_name": "LayoutView",
            "grid_template_rows": null,
            "right": null,
            "justify_content": null,
            "_view_module": "@jupyter-widgets/base",
            "overflow": null,
            "_model_module_version": "1.2.0",
            "_view_count": null,
            "flex_flow": null,
            "width": null,
            "min_width": null,
            "border": null,
            "align_items": null,
            "bottom": null,
            "_model_module": "@jupyter-widgets/base",
            "top": null,
            "grid_column": null,
            "overflow_y": null,
            "overflow_x": null,
            "grid_auto_flow": null,
            "grid_area": null,
            "grid_template_columns": null,
            "flex": null,
            "_model_name": "LayoutModel",
            "justify_items": null,
            "grid_row": null,
            "max_height": null,
            "align_content": null,
            "visibility": null,
            "align_self": null,
            "height": null,
            "min_height": null,
            "padding": null,
            "grid_auto_rows": null,
            "grid_gap": null,
            "max_width": null,
            "order": null,
            "_view_module_version": "1.2.0",
            "grid_template_areas": null,
            "object_position": null,
            "object_fit": null,
            "grid_auto_columns": null,
            "margin": null,
            "display": null,
            "left": null
          }
        },
        "faa2f6362c144f1780bd98ab244b29bf": {
          "model_module": "@jupyter-widgets/controls",
          "model_name": "HBoxModel",
          "state": {
            "_view_name": "HBoxView",
            "_dom_classes": [],
            "_model_name": "HBoxModel",
            "_view_module": "@jupyter-widgets/controls",
            "_model_module_version": "1.5.0",
            "_view_count": null,
            "_view_module_version": "1.5.0",
            "box_style": "",
            "layout": "IPY_MODEL_e4c9ab1bedf445bab9f5107537dd661c",
            "_model_module": "@jupyter-widgets/controls",
            "children": [
              "IPY_MODEL_b7b9d197213b403b973b2af21a80b46c",
              "IPY_MODEL_bbfc719aa46d4726a21d684e7ec8832d"
            ]
          }
        },
        "e4c9ab1bedf445bab9f5107537dd661c": {
          "model_module": "@jupyter-widgets/base",
          "model_name": "LayoutModel",
          "state": {
            "_view_name": "LayoutView",
            "grid_template_rows": null,
            "right": null,
            "justify_content": null,
            "_view_module": "@jupyter-widgets/base",
            "overflow": null,
            "_model_module_version": "1.2.0",
            "_view_count": null,
            "flex_flow": null,
            "width": null,
            "min_width": null,
            "border": null,
            "align_items": null,
            "bottom": null,
            "_model_module": "@jupyter-widgets/base",
            "top": null,
            "grid_column": null,
            "overflow_y": null,
            "overflow_x": null,
            "grid_auto_flow": null,
            "grid_area": null,
            "grid_template_columns": null,
            "flex": null,
            "_model_name": "LayoutModel",
            "justify_items": null,
            "grid_row": null,
            "max_height": null,
            "align_content": null,
            "visibility": null,
            "align_self": null,
            "height": null,
            "min_height": null,
            "padding": null,
            "grid_auto_rows": null,
            "grid_gap": null,
            "max_width": null,
            "order": null,
            "_view_module_version": "1.2.0",
            "grid_template_areas": null,
            "object_position": null,
            "object_fit": null,
            "grid_auto_columns": null,
            "margin": null,
            "display": null,
            "left": null
          }
        },
        "b7b9d197213b403b973b2af21a80b46c": {
          "model_module": "@jupyter-widgets/controls",
          "model_name": "FloatProgressModel",
          "state": {
            "_view_name": "ProgressView",
            "style": "IPY_MODEL_f45d7bfc3e614b369267c8e916a97d05",
            "_dom_classes": [],
            "description": "100%",
            "_model_name": "FloatProgressModel",
            "bar_style": "",
            "max": 469,
            "_view_module": "@jupyter-widgets/controls",
            "_model_module_version": "1.5.0",
            "value": 469,
            "_view_count": null,
            "_view_module_version": "1.5.0",
            "orientation": "horizontal",
            "min": 0,
            "description_tooltip": null,
            "_model_module": "@jupyter-widgets/controls",
            "layout": "IPY_MODEL_a2dd5d62653a4baa905e7ff92e3305c6"
          }
        },
        "bbfc719aa46d4726a21d684e7ec8832d": {
          "model_module": "@jupyter-widgets/controls",
          "model_name": "HTMLModel",
          "state": {
            "_view_name": "HTMLView",
            "style": "IPY_MODEL_808cba91e34c414c9a6ac73b8be8cc6e",
            "_dom_classes": [],
            "description": "",
            "_model_name": "HTMLModel",
            "placeholder": "​",
            "_view_module": "@jupyter-widgets/controls",
            "_model_module_version": "1.5.0",
            "value": " 469/469 [00:18&lt;00:00, 25.37it/s]",
            "_view_count": null,
            "_view_module_version": "1.5.0",
            "description_tooltip": null,
            "_model_module": "@jupyter-widgets/controls",
            "layout": "IPY_MODEL_5ef77892ea4f45e49f267f05247b50eb"
          }
        },
        "f45d7bfc3e614b369267c8e916a97d05": {
          "model_module": "@jupyter-widgets/controls",
          "model_name": "ProgressStyleModel",
          "state": {
            "_view_name": "StyleView",
            "_model_name": "ProgressStyleModel",
            "description_width": "initial",
            "_view_module": "@jupyter-widgets/base",
            "_model_module_version": "1.5.0",
            "_view_count": null,
            "_view_module_version": "1.2.0",
            "bar_color": null,
            "_model_module": "@jupyter-widgets/controls"
          }
        },
        "a2dd5d62653a4baa905e7ff92e3305c6": {
          "model_module": "@jupyter-widgets/base",
          "model_name": "LayoutModel",
          "state": {
            "_view_name": "LayoutView",
            "grid_template_rows": null,
            "right": null,
            "justify_content": null,
            "_view_module": "@jupyter-widgets/base",
            "overflow": null,
            "_model_module_version": "1.2.0",
            "_view_count": null,
            "flex_flow": null,
            "width": null,
            "min_width": null,
            "border": null,
            "align_items": null,
            "bottom": null,
            "_model_module": "@jupyter-widgets/base",
            "top": null,
            "grid_column": null,
            "overflow_y": null,
            "overflow_x": null,
            "grid_auto_flow": null,
            "grid_area": null,
            "grid_template_columns": null,
            "flex": null,
            "_model_name": "LayoutModel",
            "justify_items": null,
            "grid_row": null,
            "max_height": null,
            "align_content": null,
            "visibility": null,
            "align_self": null,
            "height": null,
            "min_height": null,
            "padding": null,
            "grid_auto_rows": null,
            "grid_gap": null,
            "max_width": null,
            "order": null,
            "_view_module_version": "1.2.0",
            "grid_template_areas": null,
            "object_position": null,
            "object_fit": null,
            "grid_auto_columns": null,
            "margin": null,
            "display": null,
            "left": null
          }
        },
        "808cba91e34c414c9a6ac73b8be8cc6e": {
          "model_module": "@jupyter-widgets/controls",
          "model_name": "DescriptionStyleModel",
          "state": {
            "_view_name": "StyleView",
            "_model_name": "DescriptionStyleModel",
            "description_width": "",
            "_view_module": "@jupyter-widgets/base",
            "_model_module_version": "1.5.0",
            "_view_count": null,
            "_view_module_version": "1.2.0",
            "_model_module": "@jupyter-widgets/controls"
          }
        },
        "5ef77892ea4f45e49f267f05247b50eb": {
          "model_module": "@jupyter-widgets/base",
          "model_name": "LayoutModel",
          "state": {
            "_view_name": "LayoutView",
            "grid_template_rows": null,
            "right": null,
            "justify_content": null,
            "_view_module": "@jupyter-widgets/base",
            "overflow": null,
            "_model_module_version": "1.2.0",
            "_view_count": null,
            "flex_flow": null,
            "width": null,
            "min_width": null,
            "border": null,
            "align_items": null,
            "bottom": null,
            "_model_module": "@jupyter-widgets/base",
            "top": null,
            "grid_column": null,
            "overflow_y": null,
            "overflow_x": null,
            "grid_auto_flow": null,
            "grid_area": null,
            "grid_template_columns": null,
            "flex": null,
            "_model_name": "LayoutModel",
            "justify_items": null,
            "grid_row": null,
            "max_height": null,
            "align_content": null,
            "visibility": null,
            "align_self": null,
            "height": null,
            "min_height": null,
            "padding": null,
            "grid_auto_rows": null,
            "grid_gap": null,
            "max_width": null,
            "order": null,
            "_view_module_version": "1.2.0",
            "grid_template_areas": null,
            "object_position": null,
            "object_fit": null,
            "grid_auto_columns": null,
            "margin": null,
            "display": null,
            "left": null
          }
        },
        "055c156c40944c599c17e317352aee94": {
          "model_module": "@jupyter-widgets/controls",
          "model_name": "HBoxModel",
          "state": {
            "_view_name": "HBoxView",
            "_dom_classes": [],
            "_model_name": "HBoxModel",
            "_view_module": "@jupyter-widgets/controls",
            "_model_module_version": "1.5.0",
            "_view_count": null,
            "_view_module_version": "1.5.0",
            "box_style": "",
            "layout": "IPY_MODEL_8e92ed3e75b74fe382b765b6b31850b5",
            "_model_module": "@jupyter-widgets/controls",
            "children": [
              "IPY_MODEL_5c4de42142b348d78715e47a00fd42c7",
              "IPY_MODEL_4b3c79a51e9141718f862f5874075b25"
            ]
          }
        },
        "8e92ed3e75b74fe382b765b6b31850b5": {
          "model_module": "@jupyter-widgets/base",
          "model_name": "LayoutModel",
          "state": {
            "_view_name": "LayoutView",
            "grid_template_rows": null,
            "right": null,
            "justify_content": null,
            "_view_module": "@jupyter-widgets/base",
            "overflow": null,
            "_model_module_version": "1.2.0",
            "_view_count": null,
            "flex_flow": null,
            "width": null,
            "min_width": null,
            "border": null,
            "align_items": null,
            "bottom": null,
            "_model_module": "@jupyter-widgets/base",
            "top": null,
            "grid_column": null,
            "overflow_y": null,
            "overflow_x": null,
            "grid_auto_flow": null,
            "grid_area": null,
            "grid_template_columns": null,
            "flex": null,
            "_model_name": "LayoutModel",
            "justify_items": null,
            "grid_row": null,
            "max_height": null,
            "align_content": null,
            "visibility": null,
            "align_self": null,
            "height": null,
            "min_height": null,
            "padding": null,
            "grid_auto_rows": null,
            "grid_gap": null,
            "max_width": null,
            "order": null,
            "_view_module_version": "1.2.0",
            "grid_template_areas": null,
            "object_position": null,
            "object_fit": null,
            "grid_auto_columns": null,
            "margin": null,
            "display": null,
            "left": null
          }
        },
        "5c4de42142b348d78715e47a00fd42c7": {
          "model_module": "@jupyter-widgets/controls",
          "model_name": "FloatProgressModel",
          "state": {
            "_view_name": "ProgressView",
            "style": "IPY_MODEL_aadb24ced3954f89a8653902cc7c94c3",
            "_dom_classes": [],
            "description": "100%",
            "_model_name": "FloatProgressModel",
            "bar_style": "",
            "max": 469,
            "_view_module": "@jupyter-widgets/controls",
            "_model_module_version": "1.5.0",
            "value": 469,
            "_view_count": null,
            "_view_module_version": "1.5.0",
            "orientation": "horizontal",
            "min": 0,
            "description_tooltip": null,
            "_model_module": "@jupyter-widgets/controls",
            "layout": "IPY_MODEL_9a9d8994d9404cb8ba32aaa48cc0d746"
          }
        },
        "4b3c79a51e9141718f862f5874075b25": {
          "model_module": "@jupyter-widgets/controls",
          "model_name": "HTMLModel",
          "state": {
            "_view_name": "HTMLView",
            "style": "IPY_MODEL_c0c84c061d4d4bf88a35aefd60243580",
            "_dom_classes": [],
            "description": "",
            "_model_name": "HTMLModel",
            "placeholder": "​",
            "_view_module": "@jupyter-widgets/controls",
            "_model_module_version": "1.5.0",
            "value": " 469/469 [00:18&lt;00:00, 25.38it/s]",
            "_view_count": null,
            "_view_module_version": "1.5.0",
            "description_tooltip": null,
            "_model_module": "@jupyter-widgets/controls",
            "layout": "IPY_MODEL_30a67b7fa2cf44ea878c043c3cf0cac6"
          }
        },
        "aadb24ced3954f89a8653902cc7c94c3": {
          "model_module": "@jupyter-widgets/controls",
          "model_name": "ProgressStyleModel",
          "state": {
            "_view_name": "StyleView",
            "_model_name": "ProgressStyleModel",
            "description_width": "initial",
            "_view_module": "@jupyter-widgets/base",
            "_model_module_version": "1.5.0",
            "_view_count": null,
            "_view_module_version": "1.2.0",
            "bar_color": null,
            "_model_module": "@jupyter-widgets/controls"
          }
        },
        "9a9d8994d9404cb8ba32aaa48cc0d746": {
          "model_module": "@jupyter-widgets/base",
          "model_name": "LayoutModel",
          "state": {
            "_view_name": "LayoutView",
            "grid_template_rows": null,
            "right": null,
            "justify_content": null,
            "_view_module": "@jupyter-widgets/base",
            "overflow": null,
            "_model_module_version": "1.2.0",
            "_view_count": null,
            "flex_flow": null,
            "width": null,
            "min_width": null,
            "border": null,
            "align_items": null,
            "bottom": null,
            "_model_module": "@jupyter-widgets/base",
            "top": null,
            "grid_column": null,
            "overflow_y": null,
            "overflow_x": null,
            "grid_auto_flow": null,
            "grid_area": null,
            "grid_template_columns": null,
            "flex": null,
            "_model_name": "LayoutModel",
            "justify_items": null,
            "grid_row": null,
            "max_height": null,
            "align_content": null,
            "visibility": null,
            "align_self": null,
            "height": null,
            "min_height": null,
            "padding": null,
            "grid_auto_rows": null,
            "grid_gap": null,
            "max_width": null,
            "order": null,
            "_view_module_version": "1.2.0",
            "grid_template_areas": null,
            "object_position": null,
            "object_fit": null,
            "grid_auto_columns": null,
            "margin": null,
            "display": null,
            "left": null
          }
        },
        "c0c84c061d4d4bf88a35aefd60243580": {
          "model_module": "@jupyter-widgets/controls",
          "model_name": "DescriptionStyleModel",
          "state": {
            "_view_name": "StyleView",
            "_model_name": "DescriptionStyleModel",
            "description_width": "",
            "_view_module": "@jupyter-widgets/base",
            "_model_module_version": "1.5.0",
            "_view_count": null,
            "_view_module_version": "1.2.0",
            "_model_module": "@jupyter-widgets/controls"
          }
        },
        "30a67b7fa2cf44ea878c043c3cf0cac6": {
          "model_module": "@jupyter-widgets/base",
          "model_name": "LayoutModel",
          "state": {
            "_view_name": "LayoutView",
            "grid_template_rows": null,
            "right": null,
            "justify_content": null,
            "_view_module": "@jupyter-widgets/base",
            "overflow": null,
            "_model_module_version": "1.2.0",
            "_view_count": null,
            "flex_flow": null,
            "width": null,
            "min_width": null,
            "border": null,
            "align_items": null,
            "bottom": null,
            "_model_module": "@jupyter-widgets/base",
            "top": null,
            "grid_column": null,
            "overflow_y": null,
            "overflow_x": null,
            "grid_auto_flow": null,
            "grid_area": null,
            "grid_template_columns": null,
            "flex": null,
            "_model_name": "LayoutModel",
            "justify_items": null,
            "grid_row": null,
            "max_height": null,
            "align_content": null,
            "visibility": null,
            "align_self": null,
            "height": null,
            "min_height": null,
            "padding": null,
            "grid_auto_rows": null,
            "grid_gap": null,
            "max_width": null,
            "order": null,
            "_view_module_version": "1.2.0",
            "grid_template_areas": null,
            "object_position": null,
            "object_fit": null,
            "grid_auto_columns": null,
            "margin": null,
            "display": null,
            "left": null
          }
        },
        "452befa9b66e405aaac5721ac71f49ed": {
          "model_module": "@jupyter-widgets/controls",
          "model_name": "HBoxModel",
          "state": {
            "_view_name": "HBoxView",
            "_dom_classes": [],
            "_model_name": "HBoxModel",
            "_view_module": "@jupyter-widgets/controls",
            "_model_module_version": "1.5.0",
            "_view_count": null,
            "_view_module_version": "1.5.0",
            "box_style": "",
            "layout": "IPY_MODEL_95a5d620a2c744f582a5daa90e5507d6",
            "_model_module": "@jupyter-widgets/controls",
            "children": [
              "IPY_MODEL_0e87db6dfb0b436e8661f32f24d48332",
              "IPY_MODEL_c05f8e78d8224320a4c5f45eb595f9ed"
            ]
          }
        },
        "95a5d620a2c744f582a5daa90e5507d6": {
          "model_module": "@jupyter-widgets/base",
          "model_name": "LayoutModel",
          "state": {
            "_view_name": "LayoutView",
            "grid_template_rows": null,
            "right": null,
            "justify_content": null,
            "_view_module": "@jupyter-widgets/base",
            "overflow": null,
            "_model_module_version": "1.2.0",
            "_view_count": null,
            "flex_flow": null,
            "width": null,
            "min_width": null,
            "border": null,
            "align_items": null,
            "bottom": null,
            "_model_module": "@jupyter-widgets/base",
            "top": null,
            "grid_column": null,
            "overflow_y": null,
            "overflow_x": null,
            "grid_auto_flow": null,
            "grid_area": null,
            "grid_template_columns": null,
            "flex": null,
            "_model_name": "LayoutModel",
            "justify_items": null,
            "grid_row": null,
            "max_height": null,
            "align_content": null,
            "visibility": null,
            "align_self": null,
            "height": null,
            "min_height": null,
            "padding": null,
            "grid_auto_rows": null,
            "grid_gap": null,
            "max_width": null,
            "order": null,
            "_view_module_version": "1.2.0",
            "grid_template_areas": null,
            "object_position": null,
            "object_fit": null,
            "grid_auto_columns": null,
            "margin": null,
            "display": null,
            "left": null
          }
        },
        "0e87db6dfb0b436e8661f32f24d48332": {
          "model_module": "@jupyter-widgets/controls",
          "model_name": "FloatProgressModel",
          "state": {
            "_view_name": "ProgressView",
            "style": "IPY_MODEL_0f82bcc7f5aa4bfe8791947a719dcc4e",
            "_dom_classes": [],
            "description": "100%",
            "_model_name": "FloatProgressModel",
            "bar_style": "",
            "max": 469,
            "_view_module": "@jupyter-widgets/controls",
            "_model_module_version": "1.5.0",
            "value": 469,
            "_view_count": null,
            "_view_module_version": "1.5.0",
            "orientation": "horizontal",
            "min": 0,
            "description_tooltip": null,
            "_model_module": "@jupyter-widgets/controls",
            "layout": "IPY_MODEL_93e5a44d88f44fdab5f8feec26611eaf"
          }
        },
        "c05f8e78d8224320a4c5f45eb595f9ed": {
          "model_module": "@jupyter-widgets/controls",
          "model_name": "HTMLModel",
          "state": {
            "_view_name": "HTMLView",
            "style": "IPY_MODEL_2fdc6f0faa404e87ad0a838d539c683e",
            "_dom_classes": [],
            "description": "",
            "_model_name": "HTMLModel",
            "placeholder": "​",
            "_view_module": "@jupyter-widgets/controls",
            "_model_module_version": "1.5.0",
            "value": " 469/469 [00:18&lt;00:00, 25.66it/s]",
            "_view_count": null,
            "_view_module_version": "1.5.0",
            "description_tooltip": null,
            "_model_module": "@jupyter-widgets/controls",
            "layout": "IPY_MODEL_693b6a15306845a68b2d939de8fe278c"
          }
        },
        "0f82bcc7f5aa4bfe8791947a719dcc4e": {
          "model_module": "@jupyter-widgets/controls",
          "model_name": "ProgressStyleModel",
          "state": {
            "_view_name": "StyleView",
            "_model_name": "ProgressStyleModel",
            "description_width": "initial",
            "_view_module": "@jupyter-widgets/base",
            "_model_module_version": "1.5.0",
            "_view_count": null,
            "_view_module_version": "1.2.0",
            "bar_color": null,
            "_model_module": "@jupyter-widgets/controls"
          }
        },
        "93e5a44d88f44fdab5f8feec26611eaf": {
          "model_module": "@jupyter-widgets/base",
          "model_name": "LayoutModel",
          "state": {
            "_view_name": "LayoutView",
            "grid_template_rows": null,
            "right": null,
            "justify_content": null,
            "_view_module": "@jupyter-widgets/base",
            "overflow": null,
            "_model_module_version": "1.2.0",
            "_view_count": null,
            "flex_flow": null,
            "width": null,
            "min_width": null,
            "border": null,
            "align_items": null,
            "bottom": null,
            "_model_module": "@jupyter-widgets/base",
            "top": null,
            "grid_column": null,
            "overflow_y": null,
            "overflow_x": null,
            "grid_auto_flow": null,
            "grid_area": null,
            "grid_template_columns": null,
            "flex": null,
            "_model_name": "LayoutModel",
            "justify_items": null,
            "grid_row": null,
            "max_height": null,
            "align_content": null,
            "visibility": null,
            "align_self": null,
            "height": null,
            "min_height": null,
            "padding": null,
            "grid_auto_rows": null,
            "grid_gap": null,
            "max_width": null,
            "order": null,
            "_view_module_version": "1.2.0",
            "grid_template_areas": null,
            "object_position": null,
            "object_fit": null,
            "grid_auto_columns": null,
            "margin": null,
            "display": null,
            "left": null
          }
        },
        "2fdc6f0faa404e87ad0a838d539c683e": {
          "model_module": "@jupyter-widgets/controls",
          "model_name": "DescriptionStyleModel",
          "state": {
            "_view_name": "StyleView",
            "_model_name": "DescriptionStyleModel",
            "description_width": "",
            "_view_module": "@jupyter-widgets/base",
            "_model_module_version": "1.5.0",
            "_view_count": null,
            "_view_module_version": "1.2.0",
            "_model_module": "@jupyter-widgets/controls"
          }
        },
        "693b6a15306845a68b2d939de8fe278c": {
          "model_module": "@jupyter-widgets/base",
          "model_name": "LayoutModel",
          "state": {
            "_view_name": "LayoutView",
            "grid_template_rows": null,
            "right": null,
            "justify_content": null,
            "_view_module": "@jupyter-widgets/base",
            "overflow": null,
            "_model_module_version": "1.2.0",
            "_view_count": null,
            "flex_flow": null,
            "width": null,
            "min_width": null,
            "border": null,
            "align_items": null,
            "bottom": null,
            "_model_module": "@jupyter-widgets/base",
            "top": null,
            "grid_column": null,
            "overflow_y": null,
            "overflow_x": null,
            "grid_auto_flow": null,
            "grid_area": null,
            "grid_template_columns": null,
            "flex": null,
            "_model_name": "LayoutModel",
            "justify_items": null,
            "grid_row": null,
            "max_height": null,
            "align_content": null,
            "visibility": null,
            "align_self": null,
            "height": null,
            "min_height": null,
            "padding": null,
            "grid_auto_rows": null,
            "grid_gap": null,
            "max_width": null,
            "order": null,
            "_view_module_version": "1.2.0",
            "grid_template_areas": null,
            "object_position": null,
            "object_fit": null,
            "grid_auto_columns": null,
            "margin": null,
            "display": null,
            "left": null
          }
        },
        "65ed2bb611ea40cfb811342280feb872": {
          "model_module": "@jupyter-widgets/controls",
          "model_name": "HBoxModel",
          "state": {
            "_view_name": "HBoxView",
            "_dom_classes": [],
            "_model_name": "HBoxModel",
            "_view_module": "@jupyter-widgets/controls",
            "_model_module_version": "1.5.0",
            "_view_count": null,
            "_view_module_version": "1.5.0",
            "box_style": "",
            "layout": "IPY_MODEL_95c7d1acdf7a48b9be3d354be59edc62",
            "_model_module": "@jupyter-widgets/controls",
            "children": [
              "IPY_MODEL_f91222a5f8ad46eba61ee1d17e1199b6",
              "IPY_MODEL_c31f67a2dacb4eec939e4e0d0f61e13a"
            ]
          }
        },
        "95c7d1acdf7a48b9be3d354be59edc62": {
          "model_module": "@jupyter-widgets/base",
          "model_name": "LayoutModel",
          "state": {
            "_view_name": "LayoutView",
            "grid_template_rows": null,
            "right": null,
            "justify_content": null,
            "_view_module": "@jupyter-widgets/base",
            "overflow": null,
            "_model_module_version": "1.2.0",
            "_view_count": null,
            "flex_flow": null,
            "width": null,
            "min_width": null,
            "border": null,
            "align_items": null,
            "bottom": null,
            "_model_module": "@jupyter-widgets/base",
            "top": null,
            "grid_column": null,
            "overflow_y": null,
            "overflow_x": null,
            "grid_auto_flow": null,
            "grid_area": null,
            "grid_template_columns": null,
            "flex": null,
            "_model_name": "LayoutModel",
            "justify_items": null,
            "grid_row": null,
            "max_height": null,
            "align_content": null,
            "visibility": null,
            "align_self": null,
            "height": null,
            "min_height": null,
            "padding": null,
            "grid_auto_rows": null,
            "grid_gap": null,
            "max_width": null,
            "order": null,
            "_view_module_version": "1.2.0",
            "grid_template_areas": null,
            "object_position": null,
            "object_fit": null,
            "grid_auto_columns": null,
            "margin": null,
            "display": null,
            "left": null
          }
        },
        "f91222a5f8ad46eba61ee1d17e1199b6": {
          "model_module": "@jupyter-widgets/controls",
          "model_name": "FloatProgressModel",
          "state": {
            "_view_name": "ProgressView",
            "style": "IPY_MODEL_9615f275542f44e88a7158e2be33450d",
            "_dom_classes": [],
            "description": "100%",
            "_model_name": "FloatProgressModel",
            "bar_style": "",
            "max": 469,
            "_view_module": "@jupyter-widgets/controls",
            "_model_module_version": "1.5.0",
            "value": 469,
            "_view_count": null,
            "_view_module_version": "1.5.0",
            "orientation": "horizontal",
            "min": 0,
            "description_tooltip": null,
            "_model_module": "@jupyter-widgets/controls",
            "layout": "IPY_MODEL_db9e6dbc16c648f1b2943a35d6cf4c2a"
          }
        },
        "c31f67a2dacb4eec939e4e0d0f61e13a": {
          "model_module": "@jupyter-widgets/controls",
          "model_name": "HTMLModel",
          "state": {
            "_view_name": "HTMLView",
            "style": "IPY_MODEL_10c7beb252ee408d9845ad3ba60223f0",
            "_dom_classes": [],
            "description": "",
            "_model_name": "HTMLModel",
            "placeholder": "​",
            "_view_module": "@jupyter-widgets/controls",
            "_model_module_version": "1.5.0",
            "value": " 469/469 [00:18&lt;00:00, 25.54it/s]",
            "_view_count": null,
            "_view_module_version": "1.5.0",
            "description_tooltip": null,
            "_model_module": "@jupyter-widgets/controls",
            "layout": "IPY_MODEL_92a82e38862a4f618fac14f0403f9993"
          }
        },
        "9615f275542f44e88a7158e2be33450d": {
          "model_module": "@jupyter-widgets/controls",
          "model_name": "ProgressStyleModel",
          "state": {
            "_view_name": "StyleView",
            "_model_name": "ProgressStyleModel",
            "description_width": "initial",
            "_view_module": "@jupyter-widgets/base",
            "_model_module_version": "1.5.0",
            "_view_count": null,
            "_view_module_version": "1.2.0",
            "bar_color": null,
            "_model_module": "@jupyter-widgets/controls"
          }
        },
        "db9e6dbc16c648f1b2943a35d6cf4c2a": {
          "model_module": "@jupyter-widgets/base",
          "model_name": "LayoutModel",
          "state": {
            "_view_name": "LayoutView",
            "grid_template_rows": null,
            "right": null,
            "justify_content": null,
            "_view_module": "@jupyter-widgets/base",
            "overflow": null,
            "_model_module_version": "1.2.0",
            "_view_count": null,
            "flex_flow": null,
            "width": null,
            "min_width": null,
            "border": null,
            "align_items": null,
            "bottom": null,
            "_model_module": "@jupyter-widgets/base",
            "top": null,
            "grid_column": null,
            "overflow_y": null,
            "overflow_x": null,
            "grid_auto_flow": null,
            "grid_area": null,
            "grid_template_columns": null,
            "flex": null,
            "_model_name": "LayoutModel",
            "justify_items": null,
            "grid_row": null,
            "max_height": null,
            "align_content": null,
            "visibility": null,
            "align_self": null,
            "height": null,
            "min_height": null,
            "padding": null,
            "grid_auto_rows": null,
            "grid_gap": null,
            "max_width": null,
            "order": null,
            "_view_module_version": "1.2.0",
            "grid_template_areas": null,
            "object_position": null,
            "object_fit": null,
            "grid_auto_columns": null,
            "margin": null,
            "display": null,
            "left": null
          }
        },
        "10c7beb252ee408d9845ad3ba60223f0": {
          "model_module": "@jupyter-widgets/controls",
          "model_name": "DescriptionStyleModel",
          "state": {
            "_view_name": "StyleView",
            "_model_name": "DescriptionStyleModel",
            "description_width": "",
            "_view_module": "@jupyter-widgets/base",
            "_model_module_version": "1.5.0",
            "_view_count": null,
            "_view_module_version": "1.2.0",
            "_model_module": "@jupyter-widgets/controls"
          }
        },
        "92a82e38862a4f618fac14f0403f9993": {
          "model_module": "@jupyter-widgets/base",
          "model_name": "LayoutModel",
          "state": {
            "_view_name": "LayoutView",
            "grid_template_rows": null,
            "right": null,
            "justify_content": null,
            "_view_module": "@jupyter-widgets/base",
            "overflow": null,
            "_model_module_version": "1.2.0",
            "_view_count": null,
            "flex_flow": null,
            "width": null,
            "min_width": null,
            "border": null,
            "align_items": null,
            "bottom": null,
            "_model_module": "@jupyter-widgets/base",
            "top": null,
            "grid_column": null,
            "overflow_y": null,
            "overflow_x": null,
            "grid_auto_flow": null,
            "grid_area": null,
            "grid_template_columns": null,
            "flex": null,
            "_model_name": "LayoutModel",
            "justify_items": null,
            "grid_row": null,
            "max_height": null,
            "align_content": null,
            "visibility": null,
            "align_self": null,
            "height": null,
            "min_height": null,
            "padding": null,
            "grid_auto_rows": null,
            "grid_gap": null,
            "max_width": null,
            "order": null,
            "_view_module_version": "1.2.0",
            "grid_template_areas": null,
            "object_position": null,
            "object_fit": null,
            "grid_auto_columns": null,
            "margin": null,
            "display": null,
            "left": null
          }
        },
        "5a945ac0da194cdbba3f68c6330fef1e": {
          "model_module": "@jupyter-widgets/controls",
          "model_name": "HBoxModel",
          "state": {
            "_view_name": "HBoxView",
            "_dom_classes": [],
            "_model_name": "HBoxModel",
            "_view_module": "@jupyter-widgets/controls",
            "_model_module_version": "1.5.0",
            "_view_count": null,
            "_view_module_version": "1.5.0",
            "box_style": "",
            "layout": "IPY_MODEL_383e4e69ff974af2b59316c4b29e4826",
            "_model_module": "@jupyter-widgets/controls",
            "children": [
              "IPY_MODEL_1562df7abed14deb9d5f77e6e4b8ca35",
              "IPY_MODEL_67051d69a3e745cea96e1467b541f30e"
            ]
          }
        },
        "383e4e69ff974af2b59316c4b29e4826": {
          "model_module": "@jupyter-widgets/base",
          "model_name": "LayoutModel",
          "state": {
            "_view_name": "LayoutView",
            "grid_template_rows": null,
            "right": null,
            "justify_content": null,
            "_view_module": "@jupyter-widgets/base",
            "overflow": null,
            "_model_module_version": "1.2.0",
            "_view_count": null,
            "flex_flow": null,
            "width": null,
            "min_width": null,
            "border": null,
            "align_items": null,
            "bottom": null,
            "_model_module": "@jupyter-widgets/base",
            "top": null,
            "grid_column": null,
            "overflow_y": null,
            "overflow_x": null,
            "grid_auto_flow": null,
            "grid_area": null,
            "grid_template_columns": null,
            "flex": null,
            "_model_name": "LayoutModel",
            "justify_items": null,
            "grid_row": null,
            "max_height": null,
            "align_content": null,
            "visibility": null,
            "align_self": null,
            "height": null,
            "min_height": null,
            "padding": null,
            "grid_auto_rows": null,
            "grid_gap": null,
            "max_width": null,
            "order": null,
            "_view_module_version": "1.2.0",
            "grid_template_areas": null,
            "object_position": null,
            "object_fit": null,
            "grid_auto_columns": null,
            "margin": null,
            "display": null,
            "left": null
          }
        },
        "1562df7abed14deb9d5f77e6e4b8ca35": {
          "model_module": "@jupyter-widgets/controls",
          "model_name": "FloatProgressModel",
          "state": {
            "_view_name": "ProgressView",
            "style": "IPY_MODEL_bf0f8b487c924ff1b2fe7123d5ef1abc",
            "_dom_classes": [],
            "description": "100%",
            "_model_name": "FloatProgressModel",
            "bar_style": "",
            "max": 469,
            "_view_module": "@jupyter-widgets/controls",
            "_model_module_version": "1.5.0",
            "value": 469,
            "_view_count": null,
            "_view_module_version": "1.5.0",
            "orientation": "horizontal",
            "min": 0,
            "description_tooltip": null,
            "_model_module": "@jupyter-widgets/controls",
            "layout": "IPY_MODEL_50ac66de6476408ab2ec51af0488acb4"
          }
        },
        "67051d69a3e745cea96e1467b541f30e": {
          "model_module": "@jupyter-widgets/controls",
          "model_name": "HTMLModel",
          "state": {
            "_view_name": "HTMLView",
            "style": "IPY_MODEL_9b496d4b91d24378ba668b67ddfdc6ea",
            "_dom_classes": [],
            "description": "",
            "_model_name": "HTMLModel",
            "placeholder": "​",
            "_view_module": "@jupyter-widgets/controls",
            "_model_module_version": "1.5.0",
            "value": " 469/469 [00:10&lt;00:00, 44.43it/s]",
            "_view_count": null,
            "_view_module_version": "1.5.0",
            "description_tooltip": null,
            "_model_module": "@jupyter-widgets/controls",
            "layout": "IPY_MODEL_39a1531d39cf41db94d8ae756b9cda1a"
          }
        },
        "bf0f8b487c924ff1b2fe7123d5ef1abc": {
          "model_module": "@jupyter-widgets/controls",
          "model_name": "ProgressStyleModel",
          "state": {
            "_view_name": "StyleView",
            "_model_name": "ProgressStyleModel",
            "description_width": "initial",
            "_view_module": "@jupyter-widgets/base",
            "_model_module_version": "1.5.0",
            "_view_count": null,
            "_view_module_version": "1.2.0",
            "bar_color": null,
            "_model_module": "@jupyter-widgets/controls"
          }
        },
        "50ac66de6476408ab2ec51af0488acb4": {
          "model_module": "@jupyter-widgets/base",
          "model_name": "LayoutModel",
          "state": {
            "_view_name": "LayoutView",
            "grid_template_rows": null,
            "right": null,
            "justify_content": null,
            "_view_module": "@jupyter-widgets/base",
            "overflow": null,
            "_model_module_version": "1.2.0",
            "_view_count": null,
            "flex_flow": null,
            "width": null,
            "min_width": null,
            "border": null,
            "align_items": null,
            "bottom": null,
            "_model_module": "@jupyter-widgets/base",
            "top": null,
            "grid_column": null,
            "overflow_y": null,
            "overflow_x": null,
            "grid_auto_flow": null,
            "grid_area": null,
            "grid_template_columns": null,
            "flex": null,
            "_model_name": "LayoutModel",
            "justify_items": null,
            "grid_row": null,
            "max_height": null,
            "align_content": null,
            "visibility": null,
            "align_self": null,
            "height": null,
            "min_height": null,
            "padding": null,
            "grid_auto_rows": null,
            "grid_gap": null,
            "max_width": null,
            "order": null,
            "_view_module_version": "1.2.0",
            "grid_template_areas": null,
            "object_position": null,
            "object_fit": null,
            "grid_auto_columns": null,
            "margin": null,
            "display": null,
            "left": null
          }
        },
        "9b496d4b91d24378ba668b67ddfdc6ea": {
          "model_module": "@jupyter-widgets/controls",
          "model_name": "DescriptionStyleModel",
          "state": {
            "_view_name": "StyleView",
            "_model_name": "DescriptionStyleModel",
            "description_width": "",
            "_view_module": "@jupyter-widgets/base",
            "_model_module_version": "1.5.0",
            "_view_count": null,
            "_view_module_version": "1.2.0",
            "_model_module": "@jupyter-widgets/controls"
          }
        },
        "39a1531d39cf41db94d8ae756b9cda1a": {
          "model_module": "@jupyter-widgets/base",
          "model_name": "LayoutModel",
          "state": {
            "_view_name": "LayoutView",
            "grid_template_rows": null,
            "right": null,
            "justify_content": null,
            "_view_module": "@jupyter-widgets/base",
            "overflow": null,
            "_model_module_version": "1.2.0",
            "_view_count": null,
            "flex_flow": null,
            "width": null,
            "min_width": null,
            "border": null,
            "align_items": null,
            "bottom": null,
            "_model_module": "@jupyter-widgets/base",
            "top": null,
            "grid_column": null,
            "overflow_y": null,
            "overflow_x": null,
            "grid_auto_flow": null,
            "grid_area": null,
            "grid_template_columns": null,
            "flex": null,
            "_model_name": "LayoutModel",
            "justify_items": null,
            "grid_row": null,
            "max_height": null,
            "align_content": null,
            "visibility": null,
            "align_self": null,
            "height": null,
            "min_height": null,
            "padding": null,
            "grid_auto_rows": null,
            "grid_gap": null,
            "max_width": null,
            "order": null,
            "_view_module_version": "1.2.0",
            "grid_template_areas": null,
            "object_position": null,
            "object_fit": null,
            "grid_auto_columns": null,
            "margin": null,
            "display": null,
            "left": null
          }
        }
      }
    }
  },
  "cells": [
    {
      "cell_type": "markdown",
      "metadata": {
        "id": "rMEPxrC0vHcN"
      },
      "source": [
        "## Goal\n",
        "Write a neural network that can:\n",
        "- take 2 inputs:\n",
        "  - an image from MNIST dataset, and\n",
        "  - a random number between 0 and 9\n",
        "- and gives two outputs:\n",
        "  - the \"number\" that was represented by the MNIST image, and\n",
        "  - the \"sum\" of this number with the random number that was generated and sent as the input to the network\n",
        "  "
      ]
    },
    {
      "cell_type": "markdown",
      "metadata": {
        "id": "VFMcF4vAvePz"
      },
      "source": [
        "![image.png](data:image/png;base64,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)"
      ]
    },
    {
      "cell_type": "code",
      "metadata": {
        "id": "CoY7yxdzKzQ6"
      },
      "source": [
        "import torch\n",
        "import torchvision\n",
        "import torchvision.transforms as transforms"
      ],
      "execution_count": 52,
      "outputs": []
    },
    {
      "cell_type": "code",
      "metadata": {
        "id": "fIPze1_9MZe9"
      },
      "source": [
        "# getting train/test MNIST dataset\n",
        "\n",
        "train_set = torchvision.datasets.MNIST(\n",
        "    root='./data'\n",
        "    ,train=True\n",
        "    ,download=True\n",
        "    ,transform=transforms.Compose([\n",
        "        transforms.ToTensor()\n",
        "    ])\n",
        ")\n",
        "\n",
        "test_set = torchvision.datasets.MNIST(\n",
        "    root='./data'\n",
        "    ,train=False\n",
        "    ,download=True\n",
        "    ,transform=transforms.Compose([\n",
        "        transforms.ToTensor()\n",
        "    ])\n",
        ")"
      ],
      "execution_count": 53,
      "outputs": []
    },
    {
      "cell_type": "code",
      "metadata": {
        "colab": {
          "base_uri": "https://localhost:8080/",
          "height": 315
        },
        "id": "bb5GAn9EMpTp",
        "outputId": "d8ee6b97-1bf1-4e4b-e1e3-6fadd53d6be2"
      },
      "source": [
        "import random\n",
        "import matplotlib.pyplot as plt\n",
        "import torch.nn.functional as F\n",
        "\n",
        "# create an enhanced MNIST dataset class which adds the information about \"random\" numbers to the input and the output of each image\n",
        "class EnhancedMNIST():\n",
        "  def __init__(self, dataset):\n",
        "    self.dataset = dataset\n",
        "  \n",
        "  def __len__(self):\n",
        "    return len(self.dataset)\n",
        "  \n",
        "  def __getitem__(self, idx):\n",
        "    image, label = self.dataset[idx]\n",
        "    randnum = random.randint(0, 9)\n",
        "    rand = F.one_hot(torch.tensor(randnum), num_classes=10)\n",
        "    sum_label = label+randnum\n",
        "\n",
        "    return {\"image\": image, \"rand\": rand, \"mnist_label\": label, \"sum_label\": sum_label}\n",
        "\n",
        "new_train_set = EnhancedMNIST(train_set)\n",
        "new_test_set = EnhancedMNIST(test_set)\n",
        "\n",
        "# sanity check\n",
        "sample = new_train_set[0]\n",
        "plt.imshow(sample['image'][0])\n",
        "plt.show()\n",
        "print(\"random: \", sample['rand'])\n",
        "print(\"mnist_label: \", sample['mnist_label'])\n",
        "print(\"sum_label: \", sample['sum_label'])\n"
      ],
      "execution_count": 63,
      "outputs": [
        {
          "output_type": "display_data",
          "data": {
            "image/png": "[encoded data removed]",
            "text/plain": [
              "<Figure size 432x288 with 1 Axes>"
            ]
          },
          "metadata": {
            "tags": [],
            "needs_background": "light"
          }
        },
        {
          "output_type": "stream",
          "text": [
            "random:  tensor([0, 0, 1, 0, 0, 0, 0, 0, 0, 0])\n",
            "mnist_label:  5\n",
            "sum_label:  7\n"
          ],
          "name": "stdout"
        }
      ]
    },
    {
      "cell_type": "code",
      "metadata": {
        "colab": {
          "base_uri": "https://localhost:8080/"
        },
        "id": "mk5_MVFKSeau",
        "outputId": "6b6415f1-206d-4c8a-86f9-20ad57f11083"
      },
      "source": [
        "# next we get our dataloaders from our enhanced MNIST dataset\n",
        "train_loader = torch.utils.data.DataLoader(new_train_set\n",
        "    ,batch_size=128\n",
        "    ,shuffle=True\n",
        ")\n",
        "test_loader = torch.utils.data.DataLoader(new_test_set\n",
        "    ,batch_size=128\n",
        "    ,shuffle=True\n",
        ")\n",
        "\n",
        "# sanity check\n",
        "next(iter(train_loader))['image'].shape"
      ],
      "execution_count": 55,
      "outputs": [
        {
          "output_type": "execute_result",
          "data": {
            "text/plain": [
              "torch.Size([128, 1, 28, 28])"
            ]
          },
          "metadata": {
            "tags": []
          },
          "execution_count": 55
        }
      ]
    },
    {
      "cell_type": "code",
      "metadata": {
        "colab": {
          "base_uri": "https://localhost:8080/"
        },
        "id": "IVOyCxodXPlm",
        "outputId": "c758b3ae-90dd-4cfc-dc60-60b6a67b8a5a"
      },
      "source": [
        "import torch.nn as nn\n",
        "import torch.nn.functional as F\n",
        "\n",
        "\n",
        "class Net(nn.Module):\n",
        "  def __init__(self):\n",
        "    super().__init__()\n",
        "\n",
        "    # conv and pool layers copied from other assignment\n",
        "    self.conv1 = nn.Conv2d(1, 32, 3, padding=1)      # 1x28x28    -->  32x28x28 \n",
        "    self.conv2 = nn.Conv2d(32, 64, 3, padding=1)     # 32x28x28   -->  64x28x28 \n",
        "    self.pool1 = nn.MaxPool2d(2, 2)                  # 64x28x28   -->  64x14x14 \n",
        "    self.conv3 = nn.Conv2d(64, 128, 3, padding=1)    # 64x14x14   -->  128x14x14\n",
        "    self.conv4 = nn.Conv2d(128, 256, 3, padding=1)   # 128x14x14  -->  256x14x14\n",
        "    self.pool2 = nn.MaxPool2d(2, 2)                  # 256x14x14  -->  256x7x7  \n",
        "    self.conv5 = nn.Conv2d(256, 512, 3)              # 256x7x7    -->  512x5x5  \n",
        "    self.conv6 = nn.Conv2d(512, 1024, 3)             # 512x5x5    -->  1024x3x3 \n",
        "    self.conv7 = nn.Conv2d(1024, 10, 3)              # 1024x3x3   -->  10x1x1\n",
        "\n",
        "    # These layers will take in two (concatenated) One Hot Vectors of mnist prediction and the random number and try to add them together\n",
        "    self.fc1 = nn.Linear(in_features=20, out_features=64)\n",
        "    self.fc2 = nn.Linear(in_features=64, out_features=20)\n",
        "  \n",
        "  def forward(self, x):\n",
        "    # send each of these to device, since dict can't be sent to gpu\n",
        "    rand = x['rand'].to(device)\n",
        "    x = x['image'].to(device)\n",
        "\n",
        "    # get the mnist prediction\n",
        "    x = self.pool1(F.relu(self.conv2(F.relu(self.conv1(x)))))\n",
        "    x = self.pool2(F.relu(self.conv4(F.relu(self.conv3(x)))))\n",
        "    x = F.relu(self.conv6(F.relu(self.conv5(x))))\n",
        "    x = self.conv7(x)\n",
        "    x = x.view(-1, 10)\n",
        "    mnist_pred = F.log_softmax(x, dim=1)\n",
        "\n",
        "    # concatenate mnist pred to the one_hot_vector of the random number\n",
        "    x = torch.cat((mnist_pred, rand), dim=1)\n",
        "\n",
        "    # run this through the two fc layers and get prediction\n",
        "    x = F.relu(self.fc1(x))\n",
        "    x = F.log_softmax(self.fc2(x), dim=1)\n",
        "    return {\"mnist_pred\": mnist_pred, \"sum_pred\": x}\n",
        "\n",
        "net = Net().to(device)\n",
        "\n",
        "# sanity check\n",
        "print(net(next(iter(train_loader)))['mnist_pred'].shape)\n",
        "net(next(iter(train_loader)))['sum_pred'].shape"
      ],
      "execution_count": 56,
      "outputs": [
        {
          "output_type": "stream",
          "text": [
            "torch.Size([128, 10])\n"
          ],
          "name": "stdout"
        },
        {
          "output_type": "execute_result",
          "data": {
            "text/plain": [
              "torch.Size([128, 20])"
            ]
          },
          "metadata": {
            "tags": []
          },
          "execution_count": 56
        }
      ]
    },
    {
      "cell_type": "code",
      "metadata": {
        "id": "QNn9Cp5HaeSy"
      },
      "source": [
        "if torch.cuda.is_available():\n",
        "  device = torch.device(\"cuda\")\n",
        "else:\n",
        "  device = torch.device(\"cpu\")"
      ],
      "execution_count": 57,
      "outputs": []
    },
    {
      "cell_type": "code",
      "metadata": {
        "colab": {
          "base_uri": "https://localhost:8080/",
          "height": 269,
          "referenced_widgets": [
            "1c003149c4c041c4a0e0cfc0ecb0bbcf",
            "62498b4887f54836bf1e78c11c23c395",
            "c3688a84e43e4ec0b03da766ef953b96",
            "94369c8b62f84e43a964db8041356801",
            "8b4b114d35604a0dad638ce10d3edf24",
            "01fd07f26afd481fa5fa9a7e37d6354f",
            "406335f4b5f3496f9bcea3b8b15606a7",
            "29c057db2eda4ce3b1412875386e5679",
            "faa2f6362c144f1780bd98ab244b29bf",
            "e4c9ab1bedf445bab9f5107537dd661c",
            "b7b9d197213b403b973b2af21a80b46c",
            "bbfc719aa46d4726a21d684e7ec8832d",
            "f45d7bfc3e614b369267c8e916a97d05",
            "a2dd5d62653a4baa905e7ff92e3305c6",
            "808cba91e34c414c9a6ac73b8be8cc6e",
            "5ef77892ea4f45e49f267f05247b50eb",
            "055c156c40944c599c17e317352aee94",
            "8e92ed3e75b74fe382b765b6b31850b5",
            "5c4de42142b348d78715e47a00fd42c7",
            "4b3c79a51e9141718f862f5874075b25",
            "aadb24ced3954f89a8653902cc7c94c3",
            "9a9d8994d9404cb8ba32aaa48cc0d746",
            "c0c84c061d4d4bf88a35aefd60243580",
            "30a67b7fa2cf44ea878c043c3cf0cac6",
            "452befa9b66e405aaac5721ac71f49ed",
            "95a5d620a2c744f582a5daa90e5507d6",
            "0e87db6dfb0b436e8661f32f24d48332",
            "c05f8e78d8224320a4c5f45eb595f9ed",
            "0f82bcc7f5aa4bfe8791947a719dcc4e",
            "93e5a44d88f44fdab5f8feec26611eaf",
            "2fdc6f0faa404e87ad0a838d539c683e",
            "693b6a15306845a68b2d939de8fe278c",
            "65ed2bb611ea40cfb811342280feb872",
            "95c7d1acdf7a48b9be3d354be59edc62",
            "f91222a5f8ad46eba61ee1d17e1199b6",
            "c31f67a2dacb4eec939e4e0d0f61e13a",
            "9615f275542f44e88a7158e2be33450d",
            "db9e6dbc16c648f1b2943a35d6cf4c2a",
            "10c7beb252ee408d9845ad3ba60223f0",
            "92a82e38862a4f618fac14f0403f9993"
          ]
        },
        "id": "8CVHME2HhRgN",
        "outputId": "7b5fecfe-4c58-4994-8f29-6abd9c5fdbf2"
      },
      "source": [
        "from tqdm.notebook import tqdm # the CORRECT way to use tqdm in a notebook\n",
        "\n",
        "torch.set_grad_enabled(True)\n",
        "\n",
        "net = Net().to(device)\n",
        "optimizer = torch.optim.Adam(net.parameters())\n",
        "\n",
        "# function to get accuracy from preds one_hot_vector and target (not one_hot_vector)\n",
        "def get_accuracy(preds, target):\n",
        "  preds = torch.argmax(preds, dim=1)\n",
        "  assert len(preds)==len(target), \"preds length not equal to target length\"\n",
        "  \n",
        "  count=0\n",
        "  for i in range(len(preds)):\n",
        "    if preds[i]==target[i]:\n",
        "      count+=1\n",
        "  return count/len(preds)\n",
        "\n",
        "# accumulate history for training graph\n",
        "total_loss = {'mnist': [], 'sum': []}\n",
        "total_acc = {'mnist': [], 'sum': []}\n",
        "\n",
        "for epoch in range(5):\n",
        "  epoch_loss = {'mnist': [], 'sum': []}\n",
        "  epoch_acc = {'mnist': [], 'sum': []}\n",
        "\n",
        "  for idx, batch in enumerate(tqdm(train_loader, leave=False)):\n",
        "    preds = net(batch)\n",
        "\n",
        "    # get labels and preds\n",
        "    mnist_labels = batch['mnist_label']\n",
        "    sum_labels = batch['sum_label']\n",
        "    mnist_preds = preds['mnist_pred'].cpu()\n",
        "    sum_preds = preds['sum_pred'].cpu()\n",
        "\n",
        "    # get loss using cross entropy (because it's multiclass)\n",
        "    mnist_loss = F.cross_entropy(mnist_preds, mnist_labels)\n",
        "    sum_loss = F.cross_entropy(sum_preds, sum_labels)\n",
        "    mnist_acc = get_accuracy(mnist_preds, mnist_labels)\n",
        "    sum_acc = get_accuracy(sum_preds, sum_labels)\n",
        "\n",
        "    # to have good accuracy for the sum, we first need to have good accuracy for the mnist task\n",
        "    # if the batch accuracy for mnist < 50%, train mnist\n",
        "    # if batch accuracy for mnist is between 50% and 95%, randomly train one of them\n",
        "    # if batch accuracy for mnist > 95, train the fc layers for sum calculation\n",
        "    # due to random variations in batch accuracy, in some batches, mnist will train even if average epoch accuracy > 90%\n",
        "    optimizer.zero_grad()\n",
        "\n",
        "    if (mnist_acc<0.5):\n",
        "      mnist_loss.backward()\n",
        "    elif (0.95>mnist_acc>0.5):\n",
        "      mnist_loss.backward() if idx%2==0 else sum_loss.backward()\n",
        "    else:\n",
        "      sum_loss.backward()\n",
        "    \n",
        "    optimizer.step()\n",
        "\n",
        "    # add total loss and total correct\n",
        "    epoch_loss['mnist'].append(mnist_loss.item())\n",
        "    epoch_loss['sum'].append(sum_loss.item())\n",
        "    epoch_acc['mnist'].append(mnist_acc)\n",
        "    epoch_acc['sum'].append(sum_acc)\n",
        "  \n",
        "  # write stats every epoch\n",
        "  total_loss['mnist'].extend(epoch_loss['mnist'])\n",
        "  total_loss['sum'].extend(epoch_loss['sum'])\n",
        "  total_acc['mnist'].extend(epoch_acc['mnist'])\n",
        "  total_acc['sum'].extend(epoch_acc['sum'])\n",
        "  \n",
        "  epoch_avg_acc = {'mnist': round(100*sum(epoch_acc['mnist'])/len(epoch_acc['mnist']), 2), \n",
        "                    'sum': round(100*sum(epoch_acc['sum'])/len(epoch_acc['sum']), 2)}\n",
        "  epoch_avg_loss = {'mnist': round(sum(epoch_loss['mnist'])/len(epoch_loss['mnist']), 4), \n",
        "                    'sum': round(sum(epoch_acc['sum'])/len(epoch_acc['sum']), 4)}\n",
        "\n",
        "  epoch_avg_loss['total'] = round(epoch_avg_loss['mnist']+epoch_avg_loss['sum'], 4)\n",
        "  epoch_avg_acc['total'] = round(0.5*(epoch_avg_acc['mnist']+epoch_avg_acc['sum']), 2)\n",
        "\n",
        "  print(f\"--EPOCH {epoch+1}:\")\n",
        "  print(f\"Loss:     \\t MNIST: {epoch_avg_loss['mnist']} \\t SUM: {epoch_avg_loss['sum']} \\t TOTAL: {epoch_avg_loss['total']}\")\n",
        "  print(f\"Accuracy: \\t MNIST: %{epoch_avg_acc['mnist']} \\t SUM: %{epoch_avg_acc['sum']} \\t TOTAL: %{epoch_avg_acc['total']}\")\n"
      ],
      "execution_count": 156,
      "outputs": [
        {
          "output_type": "display_data",
          "data": {
            "application/vnd.jupyter.widget-view+json": {
              "model_id": "1c003149c4c041c4a0e0cfc0ecb0bbcf",
              "version_minor": 0,
              "version_major": 2
            },
            "text/plain": [
              "HBox(children=(FloatProgress(value=0.0, max=469.0), HTML(value='')))"
            ]
          },
          "metadata": {
            "tags": []
          }
        },
        {
          "output_type": "stream",
          "text": [
            "--EPOCH 1:\n",
            "Loss:     \t MNIST: 0.2404 \t SUM: 0.1889 \t TOTAL: 0.4293\n",
            "Accuracy: \t MNIST: %93.14 \t SUM: %18.89 \t TOTAL: %56.02\n"
          ],
          "name": "stdout"
        },
        {
          "output_type": "display_data",
          "data": {
            "application/vnd.jupyter.widget-view+json": {
              "model_id": "faa2f6362c144f1780bd98ab244b29bf",
              "version_minor": 0,
              "version_major": 2
            },
            "text/plain": [
              "HBox(children=(FloatProgress(value=0.0, max=469.0), HTML(value='')))"
            ]
          },
          "metadata": {
            "tags": []
          }
        },
        {
          "output_type": "stream",
          "text": [
            "--EPOCH 2:\n",
            "Loss:     \t MNIST: 0.1103 \t SUM: 0.6486 \t TOTAL: 0.7589\n",
            "Accuracy: \t MNIST: %98.03 \t SUM: %64.86 \t TOTAL: %81.44\n"
          ],
          "name": "stdout"
        },
        {
          "output_type": "display_data",
          "data": {
            "application/vnd.jupyter.widget-view+json": {
              "model_id": "055c156c40944c599c17e317352aee94",
              "version_minor": 0,
              "version_major": 2
            },
            "text/plain": [
              "HBox(children=(FloatProgress(value=0.0, max=469.0), HTML(value='')))"
            ]
          },
          "metadata": {
            "tags": []
          }
        },
        {
          "output_type": "stream",
          "text": [
            "--EPOCH 3:\n",
            "Loss:     \t MNIST: 0.0657 \t SUM: 0.9541 \t TOTAL: 1.0198\n",
            "Accuracy: \t MNIST: %98.83 \t SUM: %95.41 \t TOTAL: %97.12\n"
          ],
          "name": "stdout"
        },
        {
          "output_type": "display_data",
          "data": {
            "application/vnd.jupyter.widget-view+json": {
              "model_id": "452befa9b66e405aaac5721ac71f49ed",
              "version_minor": 0,
              "version_major": 2
            },
            "text/plain": [
              "HBox(children=(FloatProgress(value=0.0, max=469.0), HTML(value='')))"
            ]
          },
          "metadata": {
            "tags": []
          }
        },
        {
          "output_type": "stream",
          "text": [
            "--EPOCH 4:\n",
            "Loss:     \t MNIST: 0.0461 \t SUM: 0.9888 \t TOTAL: 1.0349\n",
            "Accuracy: \t MNIST: %99.11 \t SUM: %98.88 \t TOTAL: %99.0\n"
          ],
          "name": "stdout"
        },
        {
          "output_type": "display_data",
          "data": {
            "application/vnd.jupyter.widget-view+json": {
              "model_id": "65ed2bb611ea40cfb811342280feb872",
              "version_minor": 0,
              "version_major": 2
            },
            "text/plain": [
              "HBox(children=(FloatProgress(value=0.0, max=469.0), HTML(value='')))"
            ]
          },
          "metadata": {
            "tags": []
          }
        },
        {
          "output_type": "stream",
          "text": [
            "--EPOCH 5:\n",
            "Loss:     \t MNIST: 0.0388 \t SUM: 0.9932 \t TOTAL: 1.032\n",
            "Accuracy: \t MNIST: %99.3 \t SUM: %99.32 \t TOTAL: %99.31\n"
          ],
          "name": "stdout"
        }
      ]
    },
    {
      "cell_type": "code",
      "metadata": {
        "colab": {
          "base_uri": "https://localhost:8080/",
          "height": 350
        },
        "id": "mSTN3VbynaXw",
        "outputId": "e493d05f-984f-4c03-f729-e8053e9f4a57"
      },
      "source": [
        "# generate training graphs\n",
        "fig, (ax1, ax2) = plt.subplots(1, 2)\n",
        "\n",
        "fig.set_figwidth(15)\n",
        "fig.set_figheight(5)\n",
        "\n",
        "ax1.plot(total_loss['mnist'], label=\"MNIST loss\")\n",
        "ax1.plot(total_loss['sum'], label=\"SUM loss\")\n",
        "ax1.legend()\n",
        "ax1.set_title(\"Loss vs Batches\")\n",
        "ax1.set_xlabel(\"Batches\")\n",
        "ax1.set_ylabel(\"Cross-entropy Loss\")\n",
        "\n",
        "ax2.plot(total_acc['mnist'], label=\"MNIST accuracy\")\n",
        "ax2.plot(total_acc['sum'], label=\"SUM accuracy\")\n",
        "ax2.legend()\n",
        "ax2.set_title(\"Accuracy vs Batches\")\n",
        "ax2.set_xlabel(\"Batches\")\n",
        "ax2.set_ylabel(\"Accuracy\")\n",
        "\n",
        "plt.show()"
      ],
      "execution_count": 157,
      "outputs": [
        {
          "output_type": "display_data",
          "data": {
            "image/png": "[encoded data removed]",
            "text/plain": [
              "<Figure size 1080x360 with 2 Axes>"
            ]
          },
          "metadata": {
            "tags": [],
            "needs_background": "light"
          }
        }
      ]
    },
    {
      "cell_type": "code",
      "metadata": {
        "colab": {
          "base_uri": "https://localhost:8080/",
          "height": 67,
          "referenced_widgets": [
            "5a945ac0da194cdbba3f68c6330fef1e",
            "383e4e69ff974af2b59316c4b29e4826",
            "1562df7abed14deb9d5f77e6e4b8ca35",
            "67051d69a3e745cea96e1467b541f30e",
            "bf0f8b487c924ff1b2fe7123d5ef1abc",
            "50ac66de6476408ab2ec51af0488acb4",
            "9b496d4b91d24378ba668b67ddfdc6ea",
            "39a1531d39cf41db94d8ae756b9cda1a"
          ]
        },
        "id": "HjpceCh82N97",
        "outputId": "fa259e4c-9c0e-4845-a64e-a37c57431017"
      },
      "source": [
        "# evaluate with test loader\n",
        "torch.set_grad_enabled(False)\n",
        "\n",
        "test_losses = {'mnist': [], 'sum': []}\n",
        "test_accs = {'mnist': [], 'sum': []}\n",
        "\n",
        "for idx, batch in enumerate(tqdm(train_loader, leave=False)):\n",
        "  preds = net(batch)\n",
        "\n",
        "  # get labels and preds\n",
        "  mnist_labels = batch['mnist_label']\n",
        "  sum_labels = batch['sum_label']\n",
        "  mnist_preds = preds['mnist_pred'].cpu()\n",
        "  sum_preds = preds['sum_pred'].cpu()\n",
        "\n",
        "  # get loss using cross entropy (because it's multiclass)\n",
        "  mnist_loss = F.cross_entropy(mnist_preds, mnist_labels)\n",
        "  sum_loss = F.cross_entropy(sum_preds, sum_labels)\n",
        "  mnist_acc = get_accuracy(mnist_preds, mnist_labels)\n",
        "  sum_acc = get_accuracy(sum_preds, sum_labels)\n",
        "\n",
        "  # add total loss and total correct\n",
        "  test_losses['mnist'].append(mnist_loss.item())\n",
        "  test_losses['sum'].append(sum_loss.item())\n",
        "  test_accs['mnist'].append(mnist_acc)\n",
        "  test_accs['sum'].append(sum_acc)\n",
        "  \n",
        "  \n",
        "final_avg_acc = {'mnist': round(100*sum(test_accs['mnist'])/len(test_accs['mnist']), 2), \n",
        "                    'sum': round(100*sum(test_accs['sum'])/len(test_accs['sum']), 2)}\n",
        "final_avg_loss = {'mnist': round(sum(test_losses['mnist'])/len(test_losses['mnist']), 4), \n",
        "                    'sum': round(sum(test_accs['sum'])/len(test_accs['sum']), 4)}\n",
        "\n",
        "final_avg_loss['total'] = round(final_avg_loss['mnist']+final_avg_loss['sum'], 4)\n",
        "final_avg_acc['total'] = round(0.5*(final_avg_acc['mnist']+final_avg_acc['sum']), 2)\n",
        "\n",
        "print(f\"--TEST results\")\n",
        "print(f\"Loss:     \\t MNIST: {final_avg_loss['mnist']} \\t SUM: {final_avg_loss['sum']} \\t TOTAL: {final_avg_loss['total']}\")\n",
        "print(f\"Accuracy: \\t MNIST: %{final_avg_acc['mnist']} \\t SUM: %{final_avg_acc['sum']} \\t TOTAL: %{final_avg_acc['total']}\")"
      ],
      "execution_count": 158,
      "outputs": [
        {
          "output_type": "display_data",
          "data": {
            "application/vnd.jupyter.widget-view+json": {
              "model_id": "5a945ac0da194cdbba3f68c6330fef1e",
              "version_minor": 0,
              "version_major": 2
            },
            "text/plain": [
              "HBox(children=(FloatProgress(value=0.0, max=469.0), HTML(value='')))"
            ]
          },
          "metadata": {
            "tags": []
          }
        },
        {
          "output_type": "stream",
          "text": [
            "--TEST results\n",
            "Loss:     \t MNIST: 0.0316 \t SUM: 0.9954 \t TOTAL: 1.027\n",
            "Accuracy: \t MNIST: %99.51 \t SUM: %99.54 \t TOTAL: %99.53\n"
          ],
          "name": "stdout"
        }
      ]
    },
    {
      "cell_type": "code",
      "metadata": {
        "colab": {
          "base_uri": "https://localhost:8080/",
          "height": 366
        },
        "id": "GWH6GUChhrZE",
        "outputId": "e60dff3b-e43c-44cc-a254-378484efa26d"
      },
      "source": [
        "# Running sample test data through the network\n",
        "sample = next(iter(test_loader))\n",
        "preds = net(sample)\n",
        "plt.imshow(sample['image'][0].squeeze())\n",
        "plt.show()\n",
        "print(f\"MNIST target: {sample['mnist_label'][0]}\")\n",
        "print(f\"Random target: {torch.argmax(sample['rand'][0])}\")\n",
        "print(f\"Sum target: {sample['sum_label'][0]}\\n\")\n",
        "print(f\"MNIST prediction: {torch.argmax(preds['mnist_pred'][0])}\")\n",
        "print(f\"Sum prediction: {torch.argmax(preds['sum_pred'][0])}\")"
      ],
      "execution_count": 159,
      "outputs": [
        {
          "output_type": "display_data",
          "data": {
            "image/png": "[encoded data removed]",
            "text/plain": [
              "<Figure size 432x288 with 1 Axes>"
            ]
          },
          "metadata": {
            "tags": [],
            "needs_background": "light"
          }
        },
        {
          "output_type": "stream",
          "text": [
            "MNIST target: 3\n",
            "Random target: 1\n",
            "Sum target: 4\n",
            "\n",
            "MNIST prediction: 3\n",
            "Sum prediction: 4\n"
          ],
          "name": "stdout"
        }
      ]
    },
    {
      "cell_type": "code",
      "metadata": {
        "id": "59BhYKNauIEt"
      },
      "source": [
        ""
      ],
      "execution_count": null,
      "outputs": []
    }
  ]
}